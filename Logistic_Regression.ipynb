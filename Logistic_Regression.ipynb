{
  "nbformat": 4,
  "nbformat_minor": 0,
  "metadata": {
    "colab": {
      "provenance": []
    },
    "kernelspec": {
      "name": "python3",
      "display_name": "Python 3"
    },
    "language_info": {
      "name": "python"
    }
  },
  "cells": [
    {
      "cell_type": "markdown",
      "source": [
        "1. What is Logistic Regression, and how does it differ from Linear Regression?"
      ],
      "metadata": {
        "id": "ffdZppzevfs0"
      }
    },
    {
      "cell_type": "markdown",
      "source": [
        ">>> Linear Regression is a supervised machine learning algorithm for predicting continuous values. It models the relationship between a dependent variable and one or more independent variables by fitting a straight line (linear equation) to the data."
      ],
      "metadata": {
        "id": "y2ISaswYvk-N"
      }
    },
    {
      "cell_type": "markdown",
      "source": [
        "2. What is the mathematical equation of Logistic Regression?"
      ],
      "metadata": {
        "id": "4tc6YI_Uv04B"
      }
    },
    {
      "cell_type": "markdown",
      "source": [
        ">>> At its core, Logistic Regression uses the logistic (sigmoid) function to map any real-valued number into a value between 0 and 1, representing a probability."
      ],
      "metadata": {
        "id": "Go5xSA_Zv6Sl"
      }
    },
    {
      "cell_type": "markdown",
      "source": [
        "3. Why do we use the Sigmoid function in Logistic Regression?"
      ],
      "metadata": {
        "id": "kyjh4MBbwDkd"
      }
    },
    {
      "cell_type": "markdown",
      "source": [
        ">>> The Sigmoid function (also called the logistic function) converts any real-valued number (from\n",
        "−\n",
        "∞\n",
        "−∞ to\n",
        "+\n",
        "∞\n",
        "+∞) into a value between 0 and 1. This makes it ideal for predicting probabilities — which is exactly what Logistic Regression is designed to do."
      ],
      "metadata": {
        "id": "uDlzkoK9wKYy"
      }
    },
    {
      "cell_type": "markdown",
      "source": [
        "4. What is the cost function of Logistic Regression?"
      ],
      "metadata": {
        "id": "qWPy_iz4wUvf"
      }
    },
    {
      "cell_type": "markdown",
      "source": [
        ">>> In Logistic Regression, we can't use the traditional Mean Squared Error (MSE) like we do in Linear Regression because:\n",
        "\n",
        "The prediction is a probability (between 0 and 1)\n",
        "\n",
        "The model uses a non-linear sigmoid function, and MSE isn’t a good fit for optimizing probabilities."
      ],
      "metadata": {
        "id": "E9yxIUshwcMz"
      }
    },
    {
      "cell_type": "markdown",
      "source": [
        "5. What is Regularization in Logistic Regression? Why is it needed?"
      ],
      "metadata": {
        "id": "zu9YZGNwwq99"
      }
    },
    {
      "cell_type": "markdown",
      "source": [
        ">>> Regularization is a technique used to prevent overfitting by adding a penalty term to the cost function.\n",
        "It discourages the model from fitting too closely to the training data by limiting the size of the model's coefficients (weights)."
      ],
      "metadata": {
        "id": "JcePKu4zwzkV"
      }
    },
    {
      "cell_type": "markdown",
      "source": [
        "6. Explain the difference between Lasso, Ridge, and Elastic Net regression?"
      ],
      "metadata": {
        "id": "FlLV33Jgw9Gv"
      }
    },
    {
      "cell_type": "markdown",
      "source": [
        ">>>These are all forms of regularized regression techniques that add a penalty to the cost function to prevent overfitting by controlling the size of the coefficients.\n",
        "What differs is how they apply that penalty.\n",
        "\n"
      ],
      "metadata": {
        "id": "L5Pa04rCxC-d"
      }
    },
    {
      "cell_type": "markdown",
      "source": [
        "7. When should we use Elastic Net instead of Lasso or Ridge?"
      ],
      "metadata": {
        "id": "SV5qW9H_xLhj"
      }
    },
    {
      "cell_type": "markdown",
      "source": [
        ">>> Elastic Net is essentially a hybrid of Lasso (L1) and Ridge (L2) regression. You should consider using Elastic Net when you want to combine the strengths of both."
      ],
      "metadata": {
        "id": "PyEt1fIPxUw5"
      }
    },
    {
      "cell_type": "markdown",
      "source": [
        "8. What is the impact of the regularization parameter (λ) in Logistic Regression."
      ],
      "metadata": {
        "id": "pDlnHM0Nxlw1"
      }
    },
    {
      "cell_type": "markdown",
      "source": [
        ">>> The regularization parameter, often denoted as λ (lambda), controls the strength of the penalty applied to the model's coefficients in Logistic Regression when using regularization techniques like L1 (Lasso), L2 (Ridge), or Elastic Net.\n",
        "\n",
        "It essentially decides how much the model should prioritize keeping the coefficients small (simpler model) versus fitting the training data accurately.\n",
        "\n"
      ],
      "metadata": {
        "id": "wPBhlI0pxs-w"
      }
    },
    {
      "cell_type": "markdown",
      "source": [
        "9. What are the key assumptions of Logistic Regression?"
      ],
      "metadata": {
        "id": "BO0u4DBfx0gE"
      }
    },
    {
      "cell_type": "markdown",
      "source": [
        ">>> Excellent question — like any statistical or machine learning model, Logistic Regression comes with a set of assumptions you should be mindful of when applying it to real-world data. Let’s break them down clearly and simply."
      ],
      "metadata": {
        "id": "0-uAditsx8EX"
      }
    },
    {
      "cell_type": "markdown",
      "source": [
        "10. What are some alternatives to Logistic Regression for classification tasks."
      ],
      "metadata": {
        "id": "-jVFeBahyFYc"
      }
    },
    {
      "cell_type": "markdown",
      "source": [
        ">>> Great question! Logistic Regression is a popular go-to for classification, but there are many alternatives depending on the data, complexity, and problem at hand. Here are some common alternatives for classification tasks."
      ],
      "metadata": {
        "id": "DrATsEq0yK6i"
      }
    },
    {
      "cell_type": "code",
      "execution_count": null,
      "metadata": {
        "id": "1zxfl4xYvUr0"
      },
      "outputs": [],
      "source": []
    }
  ]
}